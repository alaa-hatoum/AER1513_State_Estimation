{
 "cells": [
  {
   "cell_type": "code",
   "execution_count": 1,
   "metadata": {},
   "outputs": [],
   "source": [
    "import scipy.io\n",
    "from scipy import sparse\n",
    "import numpy as np\n",
    "import scipy.linalg\n",
    "from matplotlib import pyplot as plt\n",
    "import matplotlib\n",
    "mat = scipy.io.loadmat(\"/home/alaa/Desktop/AER1513-State_Estimation/AER1513_State_Estimation/dataset1.mat\")\n"
   ]
  },
  {
   "cell_type": "code",
   "execution_count": 3,
   "metadata": {},
   "outputs": [
    {
     "name": "stdout",
     "output_type": "stream",
     "text": [
      "[[0.00036692]]\n"
     ]
    }
   ],
   "source": [
    "y = (mat[\"r_var\"])\n",
    "print(y)"
   ]
  },
  {
   "cell_type": "code",
   "execution_count": null,
   "metadata": {},
   "outputs": [],
   "source": [
    "def rob_pos(delta = 1):\n",
    "    #initialize all the data to variables\n",
    "    t = mat[\"t\"]\n",
    "    r_k = mat[\"r\"]\n",
    "    r_var = mat[\"r_var\"]\n",
    "    u_k = mat[\"v\"]\n",
    "    u_var = mat[\"v_var\"]\n",
    "    x_c = mat[\"l\"]\n",
    "    x_true = mat[\"x_true\"]\n",
    "\n",
    "    #initlizing mathematical variables\n",
    "    sampling_rate= 0.1\n",
    "    sigma_q = u_var*sampling_rate**2\n",
    "    sigma_r = r_var\n",
    "    y_k = x_c - r_k\n",
    "    v_k = sampling_rate*u_k\n"
   ]
  },
  {
   "cell_type": "code",
   "execution_count": 6,
   "metadata": {},
   "outputs": [
    {
     "ename": "",
     "evalue": "",
     "output_type": "error",
     "traceback": [
      "\u001b[1;31mThe Kernel crashed while executing code in the the current cell or a previous cell. Please review the code in the cell(s) to identify a possible cause of the failure. Click <a href='https://aka.ms/vscodeJupyterKernelCrash'>here</a> for more info. View Jupyter <a href='command:jupyter.viewOutput'>log</a> for further details."
     ]
    }
   ],
   "source": [
    "#initialize all the data to variables\n",
    "t = mat[\"t\"]\n",
    "r_k = mat[\"r\"]\n",
    "r_var = mat[\"r_var\"]\n",
    "u_k = mat[\"v\"]\n",
    "u_var = mat[\"v_var\"]\n",
    "x_c = mat[\"l\"]\n",
    "x_true = mat[\"x_true\"]\n",
    "\n",
    "#initlizing mathematical variables\n",
    "sampling_rate= 0.1\n",
    "sigma_q = u_var*sampling_rate**2\n",
    "sigma_r = r_var\n",
    "y_k = x_c - r_k\n",
    "v_k = u_k*sampling_rate\n",
    "size = len(y_k)\n",
    "z = np.concatenate(([y_k[1]],v_k,y_k))\n",
    "h_top = np.eye(size)-np.diag(np.ones(size-1),-1)\n",
    "h_bottom = np.eye(size)\n",
    "h_matrix = np.concatenate((h_top,h_bottom))\n",
    "w_top = np.ones((1,size))*sigma_q\n",
    "w_bottom = np.ones((1,size))*sigma_r\n",
    "w_matrix = np.diag(np.concatenate([w_top,w_bottom]))"
   ]
  },
  {
   "cell_type": "code",
   "execution_count": 5,
   "metadata": {},
   "outputs": [
    {
     "name": "stdout",
     "output_type": "stream",
     "text": [
      "[[2.26134046e-05 0.00000000e+00 0.00000000e+00 ... 0.00000000e+00\n",
      "  0.00000000e+00 0.00000000e+00]\n",
      " [0.00000000e+00 2.26134046e-05 0.00000000e+00 ... 0.00000000e+00\n",
      "  0.00000000e+00 0.00000000e+00]\n",
      " [0.00000000e+00 0.00000000e+00 2.26134046e-05 ... 0.00000000e+00\n",
      "  0.00000000e+00 0.00000000e+00]\n",
      " ...\n",
      " [0.00000000e+00 0.00000000e+00 0.00000000e+00 ... 2.26134046e-05\n",
      "  0.00000000e+00 0.00000000e+00]\n",
      " [0.00000000e+00 0.00000000e+00 0.00000000e+00 ... 0.00000000e+00\n",
      "  2.26134046e-05 0.00000000e+00]\n",
      " [0.00000000e+00 0.00000000e+00 0.00000000e+00 ... 0.00000000e+00\n",
      "  0.00000000e+00 2.26134046e-05]]\n"
     ]
    }
   ],
   "source": []
  },
  {
   "cell_type": "code",
   "execution_count": null,
   "metadata": {},
   "outputs": [],
   "source": []
  }
 ],
 "metadata": {
  "kernelspec": {
   "display_name": "base",
   "language": "python",
   "name": "python3"
  },
  "language_info": {
   "codemirror_mode": {
    "name": "ipython",
    "version": 3
   },
   "file_extension": ".py",
   "mimetype": "text/x-python",
   "name": "python",
   "nbconvert_exporter": "python",
   "pygments_lexer": "ipython3",
   "version": "3.11.4"
  },
  "orig_nbformat": 4
 },
 "nbformat": 4,
 "nbformat_minor": 2
}
