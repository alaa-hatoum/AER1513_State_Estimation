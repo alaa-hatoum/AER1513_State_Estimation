{
 "cells": [
  {
   "cell_type": "code",
   "execution_count": 3,
   "metadata": {},
   "outputs": [],
   "source": [
    "import scipy.io\n",
    "from scipy import sparse\n",
    "import scipy.linalg\n",
    "from scipy.sparse.linalg import inv\n",
    "\n",
    "import pprint\n",
    "\n",
    "import numpy as np\n",
    "\n",
    "from matplotlib import pyplot as plt\n",
    "import matplotlib\n",
    "\n",
    "mat = scipy.io.loadmat(\"/home/alaa/Desktop/AER1513-State_Estimation/AER1513_State_Estimation/dataset1.mat\")\n",
    "\n",
    "#initialize all the data to variables\n",
    "t = mat[\"t\"]\n",
    "r_k = mat[\"r\"]\n",
    "r_var = mat[\"r_var\"]\n",
    "u_k = mat[\"v\"]\n",
    "u_var = mat[\"v_var\"]\n",
    "x_c = mat[\"l\"]\n",
    "x_true = mat[\"x_true\"]\n",
    "size = len(x_true)\n",
    "\n"
   ]
  },
  {
   "cell_type": "code",
   "execution_count": 4,
   "metadata": {},
   "outputs": [],
   "source": [
    "def rob_pos(delta = 1):\n",
    "    #initlizing mathematical variables\n",
    "    sampling_rate= 0.1\n",
    "    sigma_q = u_var*sampling_rate**2\n",
    "    sigma_r = r_var\n",
    "    y_k = x_c - r_k\n",
    "    v_k = u_k[1:]*sampling_rate\n",
    "    size = len(y_k)\n",
    "    h_top = np.eye(size)-np.diag(np.ones(size-1),-1)\n",
    "    h_bottom = np.eye(size)\n",
    "\n",
    "\n",
    "    #creating correction matrix to zero out all the rows that are not multiples of delta\n",
    "    if delta >1:\n",
    "        block_diagonal = np.zeros(delta)\n",
    "        block_diagonal[-1] = 1\n",
    "        diagonal_matrix = np.diag(block_diagonal)\n",
    "        delta_correction_matrix = np.kron(np.eye((size // block_diagonal.shape[0])+1), diagonal_matrix)\n",
    "        delta_correction_matrix = delta_correction_matrix[0:size,0:size]\n",
    "        y_k = (y_k.transpose()@delta_correction_matrix).transpose()\n",
    "        h_bottom = h_bottom@delta_correction_matrix\n",
    "        \n",
    "\n",
    "\n",
    "    #setting up the vectors for the cholesky decomposition \n",
    "    z = np.concatenate(([y_k[1]],v_k,y_k))\n",
    "\n",
    "    h_matrix = np.concatenate((h_top,h_bottom))\n",
    "    h_transpose = h_matrix.transpose()\n",
    "\n",
    "    h_matrix = sparse.csr_matrix(h_matrix)\n",
    "    h_transpose = sparse.csr_matrix(h_transpose)\n",
    "\n",
    "    w_inverse_top = np.ones((1,size))/sigma_q\n",
    "    w_inverse_bottom = np.ones((1,size))/sigma_r\n",
    "    w_diag = np.concatenate([w_inverse_top,w_inverse_bottom],axis = 1)\n",
    "    \n",
    "    w_inverse_matrix = np.diag(w_diag[0])\n",
    "    \n",
    "    w_inverse_matrix = sparse.csr_matrix(w_inverse_matrix)\n",
    "\n",
    "    #solving for the lhs and rhs matrices of the system \n",
    "    lhs_matrix = h_transpose@w_inverse_matrix@h_matrix\n",
    "    rhs_matrix = h_transpose@w_inverse_matrix@z\n",
    "\n",
    "    #solving for the Cholesky Decomposition\n",
    "    lhs_matrix = lhs_matrix.toarray()\n",
    "    L = scipy.linalg.cholesky(lhs_matrix, lower = True)\n",
    "\n",
    "    L_transpose = L.transpose()\n",
    "\n",
    "    #forward pass\n",
    "    L = sparse.csr_matrix(L)\n",
    "    d = sparse.linalg.spsolve(L,rhs_matrix)\n",
    "\n",
    "\n",
    "    #backward pass\n",
    "    L_transpose = sparse.csr_matrix(L_transpose)\n",
    "    x_star = sparse.linalg.spsolve(L_transpose,d)\n",
    "\n",
    "    lhs_matrix = sparse.csr_matrix(lhs_matrix)\n",
    "    uncerEnv = np.sqrt(sparse.linalg.spsolve(lhs_matrix,np.eye(size)))\n",
    "\n",
    "\n",
    "\n",
    "\n",
    "    \n",
    "    return [x_star, uncerEnv]"
   ]
  },
  {
   "cell_type": "code",
   "execution_count": 5,
   "metadata": {},
   "outputs": [],
   "source": [
    "[x_star,uncerEnv] = rob_pos(1)"
   ]
  },
  {
   "cell_type": "code",
   "execution_count": 14,
   "metadata": {},
   "outputs": [],
   "source": [
    "error = x_star-x_true"
   ]
  },
  {
   "cell_type": "code",
   "execution_count": 15,
   "metadata": {},
   "outputs": [
    {
     "data": {
      "image/png": "[encoded data removed]",
      "text/plain": [
       "<Figure size 1000x1000 with 2 Axes>"
      ]
     },
     "metadata": {},
     "output_type": "display_data"
    }
   ],
   "source": [
    "# Create subplots\n",
    "fig, ax = plt.subplots(2, 1, figsize=(10, 10), dpi=100)\n",
    "delta = 1"
   ]
  },
  {
   "cell_type": "code",
   "execution_count": 21,
   "metadata": {},
   "outputs": [
    {
     "ename": "",
     "evalue": "",
     "output_type": "error",
     "traceback": [
      "\u001b[1;31mThe Kernel crashed while executing code in the the current cell or a previous cell. Please review the code in the cell(s) to identify a possible cause of the failure. Click <a href='https://aka.ms/vscodeJupyterKernelCrash'>here</a> for more info. View Jupyter <a href='command:jupyter.viewOutput'>log</a> for further details."
     ]
    }
   ],
   "source": [
    "\n",
    "# Plot estimation error and uncertainty envelope\n",
    "ax[0].plot(t[0:size//2,0:size//2], error[0:size//2,0:size//2], linewidth=0.5, label=\"Error [m]\")\n",
    "ax[1].hist(error//2, rwidth=0.95, bins=2\n",
    "plt.savefig(f\"delta{1}.png\")\n"
   ]
  },
  {
   "cell_type": "code",
   "execution_count": null,
   "metadata": {},
   "outputs": [],
   "source": [
    "ax[0].fill_between(np.squeeze(t), -uncerEnv, +uncerEnv, edgecolor='#CC4F1B', facecolor='#FF9848', alpha=0.5, linestyle=':', label='Uncertainty Envelope')\n",
    "ax[0].set_title(f\"Estimation Error versus Time for Delta = {delta}\")\n",
    "ax[0].set_ylabel(\"Estimation Error [m]\")\n",
    "ax[0].set_xlabel(\"Time [s]\")\n",
    "ax[0].legend(loc=\"upper right\")\n",
    "\n",
    "# Create a histogram of estimation error values\n",
    "ax[1].hist(error, rwidth=0.95, bins=20)\n",
    "ax[1].set_title(f\"Histogram of Estimation Error Values for Delta = {delta}\")\n",
    "ax[1].set_ylabel(\"Count\")\n",
    "ax[1].set_xlabel(\"Estimation Error [m]\")\n",
    "\n",
    "# Save the figure\n",
    "plt.savefig(f\"delta{delta}.png\")\n",
    "\n",
    "# Print average error\n",
    "avg_error = np.average(np.abs(error))\n",
    "print(f\"Delta: {delta}, Avg Error: {avg_error}\")\n"
   ]
  },
  {
   "cell_type": "code",
   "execution_count": null,
   "metadata": {},
   "outputs": [],
   "source": []
  }
 ],
 "metadata": {
  "kernelspec": {
   "display_name": "base",
   "language": "python",
   "name": "python3"
  },
  "language_info": {
   "codemirror_mode": {
    "name": "ipython",
    "version": 3
   },
   "file_extension": ".py",
   "mimetype": "text/x-python",
   "name": "python",
   "nbconvert_exporter": "python",
   "pygments_lexer": "ipython3",
   "version": "3.11.4"
  },
  "orig_nbformat": 4
 },
 "nbformat": 4,
 "nbformat_minor": 2
}
